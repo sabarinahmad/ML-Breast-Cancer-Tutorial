{
 "cells": [
  {
   "cell_type": "markdown",
   "id": "154e454f-658c-49de-b9e9-540156889a44",
   "metadata": {},
   "source": [
    "# Loading Data II\n",
    "Source: [Pandas read csv](https://pandas.pydata.org/docs/reference/api/pandas.read_csv.html)"
   ]
  },
  {
   "cell_type": "code",
   "execution_count": 3,
   "id": "c0fcf79f-44f4-44c6-93d7-0f4484c8efed",
   "metadata": {},
   "outputs": [],
   "source": [
    "import pandas as pd"
   ]
  },
  {
   "cell_type": "markdown",
   "id": "ef688d84-939b-4d2f-a8d6-6d69296a2f17",
   "metadata": {},
   "source": [
    " ## Delimiters"
   ]
  },
  {
   "cell_type": "code",
   "execution_count": 13,
   "id": "a223b12b-ce59-473f-93a3-3779d5e27351",
   "metadata": {},
   "outputs": [],
   "source": [
    "csv_data = pd.read_csv(\"bcw-data.csv\", skiprows=2)\n",
    "#tab_data=pd.read_table(\"AHR_county.txt\", sep=\"\\t\")"
   ]
  },
  {
   "cell_type": "markdown",
   "id": "be655848-2e0b-4186-ac62-b06bc5831ce8",
   "metadata": {
    "tags": []
   },
   "source": [
    "## Excel Files"
   ]
  },
  {
   "cell_type": "code",
   "execution_count": 17,
   "id": "4aeaf8f5-2bd0-4f03-9043-00441f9806d2",
   "metadata": {},
   "outputs": [],
   "source": [
    "#excel_prod = pd.read_excel(\"sales.xlsx\", sheet_name = \"Product\")"
   ]
  },
  {
   "cell_type": "markdown",
   "id": "267baf12-b3a3-492e-b9df-fb7fb67d4258",
   "metadata": {},
   "source": [
    "## HTML Files"
   ]
  },
  {
   "cell_type": "code",
   "execution_count": null,
   "id": "5066e55b-14fc-4677-95e1-c698c277ec18",
   "metadata": {},
   "outputs": [],
   "source": []
  },
  {
   "cell_type": "markdown",
   "id": "6b775635-28cc-4481-8bb5-d409e5878b5e",
   "metadata": {},
   "source": [
    "## Writing to csv"
   ]
  },
  {
   "cell_type": "code",
   "execution_count": null,
   "id": "cb99549a-3fb4-4cad-a03e-3d4263f5469c",
   "metadata": {},
   "outputs": [],
   "source": []
  }
 ],
 "metadata": {
  "kernelspec": {
   "display_name": "Python 3",
   "language": "python",
   "name": "python3"
  },
  "language_info": {
   "codemirror_mode": {
    "name": "ipython",
    "version": 3
   },
   "file_extension": ".py",
   "mimetype": "text/x-python",
   "name": "python",
   "nbconvert_exporter": "python",
   "pygments_lexer": "ipython3",
   "version": "3.8.10"
  }
 },
 "nbformat": 4,
 "nbformat_minor": 5
}
