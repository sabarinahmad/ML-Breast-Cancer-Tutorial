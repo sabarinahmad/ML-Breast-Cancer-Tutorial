{
 "cells": [
  {
   "cell_type": "markdown",
   "id": "d7c57052-df20-4bfa-b706-4641b35f451c",
   "metadata": {},
   "source": [
    "# Classification of Breast Cancer Tumors\n",
    "Noor Sabarina Ahmad\n",
    "\n",
    "*Tutorial source: https://www.youtube.com/watch?v=qUFNgkpzkNA*\n",
    "\n",
    "Date: 6th July 2021"
   ]
  },
  {
   "cell_type": "code",
   "execution_count": 5,
   "id": "095b710c-2006-4272-805c-d24b5a4c109a",
   "metadata": {},
   "outputs": [
    {
     "name": "stdout",
     "output_type": "stream",
     "text": [
      "Today is 2021-07-06\n"
     ]
    }
   ],
   "source": [
    "from datetime import date\n",
    "print(\"Today is\", date.today())"
   ]
  },
  {
   "cell_type": "markdown",
   "id": "aca391cc-ab64-4449-8fdb-5bc2e650d6e7",
   "metadata": {},
   "source": [
    "## 1-Introduction\n",
    "[Statistically](https://www.breastcancer.org/symptoms/understand_bc/statistics), breast cancer is the leading cause of cancer death in women. The two most significant risk factors leading to breast cancer are *sex* and *age*. Other factors include:\n",
    "* Family history,\n",
    "* Genetics,\n",
    "* Weight.\n",
    "\n",
    "This study will classify breast cancer tumor attributes and predict wether a tumor is benign or malignant.\n",
    "\n",
    "![Logo](https://i.sapuraindustrial.com.my/images/sibbiru2.gif)\n",
    "\n"
   ]
  },
  {
   "cell_type": "markdown",
   "id": "cdce1a04-19c6-420f-8317-32410e132bed",
   "metadata": {
    "tags": []
   },
   "source": [
    "This cell is in Markdown.\n",
    "\n",
    "# Heading 1\n",
    "\n",
    "## Heading 2\n"
   ]
  },
  {
   "cell_type": "code",
   "execution_count": null,
   "id": "0aa994e0-84b7-43b2-a3ba-200894e5e1c7",
   "metadata": {},
   "outputs": [],
   "source": []
  },
  {
   "cell_type": "code",
   "execution_count": null,
   "id": "d9d7a226-8953-4747-94e0-33d6264511b4",
   "metadata": {},
   "outputs": [],
   "source": []
  }
 ],
 "metadata": {
  "kernelspec": {
   "display_name": "Python 3",
   "language": "python",
   "name": "python3"
  },
  "language_info": {
   "codemirror_mode": {
    "name": "ipython",
    "version": 3
   },
   "file_extension": ".py",
   "mimetype": "text/x-python",
   "name": "python",
   "nbconvert_exporter": "python",
   "pygments_lexer": "ipython3",
   "version": "3.8.8"
  }
 },
 "nbformat": 4,
 "nbformat_minor": 5
}
